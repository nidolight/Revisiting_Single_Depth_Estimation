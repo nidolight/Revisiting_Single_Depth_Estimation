{
  "nbformat": 4,
  "nbformat_minor": 0,
  "metadata": {
    "colab": {
      "name": "Untitled2.ipynb",
      "provenance": []
    },
    "kernelspec": {
      "name": "python3",
      "display_name": "Python 3"
    },
    "language_info": {
      "name": "python"
    }
  },
  "cells": [
    {
      "cell_type": "code",
      "execution_count": null,
      "metadata": {
        "id": "gwymutO6Gd0o"
      },
      "outputs": [],
      "source": [
        "import argparse\n",
        "import torch\n",
        "import torch.nn.parallel\n",
        "\n",
        "from models import modules, net, resnet, densenet, senet\n",
        "import numpy as np\n",
        "import loaddata_demo as loaddata\n",
        "import pdb\n",
        "\n",
        "import matplotlib.image\n",
        "import matplotlib.pyplot as plt\n",
        "plt.set_cmap(\"jet\")\n",
        "\n",
        "\n",
        "def define_model(is_resnet, is_densenet, is_senet):\n",
        "    if is_resnet:\n",
        "        original_model = resnet.resnet50(pretrained = True)\n",
        "        Encoder = modules.E_resnet(original_model) \n",
        "        model = net.model(Encoder, num_features=2048, block_channel = [256, 512, 1024, 2048])\n",
        "    if is_densenet:\n",
        "        original_model = densenet.densenet161(pretrained=True)\n",
        "        Encoder = modules.E_densenet(original_model)\n",
        "        model = net.model(Encoder, num_features=2208, block_channel = [192, 384, 1056, 2208])\n",
        "    if is_senet:\n",
        "        original_model = senet.senet154(pretrained='imagenet')\n",
        "        Encoder = modules.E_senet(original_model)\n",
        "        model = net.model(Encoder, num_features=2048, block_channel = [256, 512, 1024, 2048])\n",
        "\n",
        "    return model\n",
        "   \n",
        "\n",
        "def main():\n",
        "    model = define_model(is_resnet=False, is_densenet=False, is_senet=True)\n",
        "    model = torch.nn.DataParallel(model).cuda()\n",
        "    model.load_state_dict(torch.load('./pretrained_model/model_senet'))\n",
        "    model.eval()\n",
        "\n",
        "    nyu2_loader = loaddata.readNyu2('data/demo/img_nyu2.png')\n",
        "  \n",
        "    test(nyu2_loader, model)\n",
        "\n",
        "\n",
        "def test(nyu2_loader, model):\n",
        "    for i, image in enumerate(nyu2_loader):     \n",
        "        image = torch.autograd.Variable(image, volatile=True).cuda()\n",
        "        out = model(image)\n",
        "        \n",
        "        matplotlib.image.imsave('data/demo/out.png', out.view(out.size(2),out.size(3)).data.cpu().numpy())\n",
        "\n",
        "if __name__ == '__main__':\n",
        "    main()"
      ]
    }
  ]
}